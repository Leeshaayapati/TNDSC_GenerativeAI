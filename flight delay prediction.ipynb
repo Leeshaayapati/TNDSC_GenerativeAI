{
  "nbformat": 4,
  "nbformat_minor": 0,
  "metadata": {
    "colab": {
      "provenance": []
    },
    "kernelspec": {
      "name": "python3",
      "display_name": "Python 3"
    },
    "language_info": {
      "name": "python"
    }
  },
  "cells": [
    {
      "cell_type": "code",
      "execution_count": 9,
      "metadata": {
        "colab": {
          "base_uri": "https://localhost:8080/"
        },
        "id": "q1b9G7ycjqCv",
        "outputId": "11ee4ff8-930e-434c-9b1e-8c1f16a97ea8"
      },
      "outputs": [
        {
          "output_type": "stream",
          "name": "stdout",
          "text": [
            "Mean Squared Error: 39.26633483237856\n",
            "R-squared Score: 0.5307194129788904\n",
            "\n",
            "Model Coefficients:\n",
            "departure_hour : -0.3895579622795973\n",
            "distance : -0.0038138584090992855\n",
            "passenger_count : 0.1250609281307409\n",
            "weather_delay : -0.0638571211094418\n",
            "carrier_delay : 0.4050819965984933\n",
            "security_delay : -1.6026857623824387\n",
            "late_aircraft_delay : 0.1652161893000226\n",
            "nas_delay : 0.3946038697503968\n",
            "\n",
            "Predictions vs Actuals:\n",
            "    Actual  Predicted\n",
            "29      25  29.802421\n",
            "15      40  40.401928\n",
            "24      20  19.710541\n",
            "17      25  10.476091\n",
            "8       10   8.186508\n",
            "9       35  31.667374\n",
            "30      30  24.879776\n"
          ]
        }
      ],
      "source": [
        "# Importing necessary libraries\n",
        "import pandas as pd\n",
        "from sklearn.model_selection import train_test_split\n",
        "from sklearn.linear_model import LinearRegression\n",
        "from sklearn.metrics import mean_squared_error, r2_score\n",
        "\n",
        "# Load dataset\n",
        "data = pd.read_csv('/content/fight delay prediction .csv')  # Assuming flight_data.csv is the name of your dataset file\n",
        "\n",
        "# Split dataset into features and target variable\n",
        "X = data[['departure_hour', 'distance', 'passenger_count', 'weather_delay', 'carrier_delay', 'security_delay', 'late_aircraft_delay', 'nas_delay']]\n",
        "y = data['flight_delay']\n",
        "\n",
        "# Splitting the dataset into the training set and test set\n",
        "X_train, X_test, y_train, y_test = train_test_split(X, y, test_size=0.2, random_state=42)\n",
        "\n",
        "# Training the model\n",
        "model = LinearRegression()\n",
        "model.fit(X_train, y_train)\n",
        "\n",
        "# Making predictions\n",
        "y_pred = model.predict(X_test)\n",
        "\n",
        "# Evaluating the model\n",
        "mse = mean_squared_error(y_test, y_pred)\n",
        "r_squared = r2_score(y_test, y_pred)\n",
        "print(\"Mean Squared Error:\", mse)\n",
        "print(\"R-squared Score:\", r_squared)\n",
        "print(\"\\nModel Coefficients:\")\n",
        "for feature, coef in zip(X.columns, model.coef_):\n",
        "    print(feature, ':', coef)\n",
        "\n",
        "# Additional output for better understanding\n",
        "print(\"\\nPredictions vs Actuals:\")\n",
        "results = pd.DataFrame({'Actual': y_test, 'Predicted': y_pred})\n",
        "print(results)\n"
      ]
    }
  ]
}